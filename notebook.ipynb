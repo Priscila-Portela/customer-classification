{
 "cells": [
  {
   "cell_type": "markdown",
   "metadata": {},
   "source": [
    "# <h1 style=\"color: yellow\">Customer Propensity to Purchase</h1>"
   ]
  },
  {
   "cell_type": "markdown",
   "metadata": {},
   "source": [
    "# 1. BUSINESS PROBLEM"
   ]
  },
  {
   "cell_type": "markdown",
   "metadata": {},
   "source": [
    "* Uma companhia de seguros deseja aumentar a oferta de produtos inserindo seguro de carros no seu portifólio. Neste sentido, a empresa gostaria de saber a viabilidade do produto, quanto este produto traria de dinheiro e quais pessoas eles deveriam oferecer.\n",
    "\n",
    "* Então a empresa pegou sua base de clientes e fez uma pesquisa para saber se os seus clientes anteriores comprariam ou não um seguro de automóveis. Com base nesta pesquisa realizada anteriormente pela empresa, eles gostariam de saber se os novos clientes, os quais não participaram da pesquisa, teriam interesse ou não em adquirir também o seguro de automóveis."
   ]
  },
  {
   "cell_type": "markdown",
   "metadata": {},
   "source": [
    "* __Goal:__\n",
    "\n",
    "    * Com fundamentos da ciência de dados, o objetivo é __desenvolver um classificador de clientes__ capaz de identificar os que comprariam e os que não comprariam o novo seguro de carros.\n",
    "    * Porém, o time de vendas terá que oferecer estes produtos manualmente através de ligação telefônica e por isso eles tem um limite de 2000 ligações ao total. \n",
    "Neste sentido, o desafio do projeto é selecionar estes 2000 clientes que apresentam a maior propensão de se interessar pelo novo produto.\n"
   ]
  },
  {
   "cell_type": "code",
   "execution_count": null,
   "metadata": {},
   "outputs": [],
   "source": []
  },
  {
   "cell_type": "code",
   "execution_count": null,
   "metadata": {},
   "outputs": [],
   "source": []
  }
 ],
 "metadata": {
  "kernelspec": {
   "display_name": "insurance",
   "language": "python",
   "name": "python3"
  },
  "language_info": {
   "name": "python",
   "version": "3.11.9"
  }
 },
 "nbformat": 4,
 "nbformat_minor": 2
}
